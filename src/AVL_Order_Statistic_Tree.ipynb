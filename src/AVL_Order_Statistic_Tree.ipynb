{
 "cells": [
  {
   "cell_type": "code",
   "execution_count": 1,
   "metadata": {
    "collapsed": true
   },
   "outputs": [],
   "source": [
    "import math"
   ]
  },
  {
   "cell_type": "code",
   "execution_count": 2,
   "metadata": {
    "collapsed": true
   },
   "outputs": [],
   "source": [
    "class Node:\n",
    "    def __init__(self, val, parent = None):\n",
    "        self.leftChild = None\n",
    "        self.rightChild = None\n",
    "        self.parent = parent\n",
    "        self.value = val\n",
    "        self.leftCount = 0\n",
    "        self.rightCount = 0\n",
    "        self.count = 1\n",
    "        self.balance = 0\n",
    "        \n",
    "    def isLeftChild(self):\n",
    "        return (not self.parent is None) and self.parent.leftChild is self\n",
    "    \n",
    "    def isRightChild(self):\n",
    "        return (not self.parent is None) and self.parent.rightChild is self    "
   ]
  },
  {
   "cell_type": "code",
   "execution_count": null,
   "metadata": {
    "collapsed": true
   },
   "outputs": [],
   "source": []
  },
  {
   "cell_type": "code",
   "execution_count": 3,
   "metadata": {
    "collapsed": false
   },
   "outputs": [],
   "source": [
    "class Tree:\n",
    "    def __init__(self):\n",
    "        self.root = None\n",
    "        self.numEntries = 0\n",
    "        \n",
    "    def add(self, val):\n",
    "        self.numEntries += 1\n",
    "        if self.root == None:\n",
    "            self.root = Node(val)\n",
    "        else:\n",
    "            self._add(val, self.root)\n",
    "    \n",
    "    def _add(self, val, node):\n",
    "        if val < node.value:\n",
    "            node.leftCount += 1\n",
    "            if node.leftChild is None:\n",
    "                node.leftChild = Node(val, node)\n",
    "                self.updateBalance(node.leftChild)\n",
    "            else:                \n",
    "                self._add(val, node.leftChild)\n",
    "        elif val > node.value:\n",
    "            node.rightCount += 1\n",
    "            if node.rightChild is None:\n",
    "                node.rightChild = Node(val, node)\n",
    "                self.updateBalance(node.rightChild)\n",
    "            else:                \n",
    "                self._add(val, node.rightChild) \n",
    "        elif val == node.value:\n",
    "            node.count +=1\n",
    "    \n",
    "    def updateBalance (self, node):\n",
    "        if node.balance >1 or node.balance <-1:\n",
    "            self.rebalance(node)\n",
    "            return\n",
    "        if not node.parent is None:\n",
    "            if node.isLeftChild():\n",
    "                node.parent.balance += 1\n",
    "            elif node.isRightChild():\n",
    "                node.parent.balance -=1    \n",
    "            if node.parent.balance !=0:\n",
    "                self.updateBalance(node.parent)\n",
    "                \n",
    "    def rotateLeft (self, oldRoot):\n",
    "        newRoot = oldRoot.rightChild\n",
    "        oldRoot.rightChild = newRoot.leftChild\n",
    "        if not newRoot.leftChild is None:\n",
    "            newRoot.leftChild.parent = oldRoot\n",
    "        newRoot.parent = oldRoot.parent\n",
    "        if oldRoot is self.root:\n",
    "            self.root = newRoot\n",
    "        else:\n",
    "            if oldRoot.isLeftChild():\n",
    "                oldRoot.parent.leftChild = newRoot\n",
    "            else:\n",
    "                oldRoot.parent.rightChild = newRoot\n",
    "        newRoot.leftChild = oldRoot\n",
    "        oldRoot.parent = newRoot\n",
    "        #Update balance factor of nodes\n",
    "        oldRoot.balance = oldRoot.balance + 1 - min (newRoot.balance, 0)\n",
    "        newRoot.balance = newRoot.balance + 1 + max (oldRoot.balance, 0)\n",
    "        #Update leftCount and rightCount of nodes\n",
    "        oldRoot.rightCount = newRoot.leftCount\n",
    "        newRoot.leftCount = oldRoot.rightCount + oldRoot.leftCount + oldRoot.count\n",
    "        \n",
    "    def rotateRight (self, oldRoot):\n",
    "        newRoot = oldRoot.leftChild\n",
    "        oldRoot.leftChild = newRoot.rightChild\n",
    "        if not newRoot.rightChild is None:\n",
    "            newRoot.rightChild.parent = oldRoot\n",
    "        newRoot.parent = oldRoot.parent\n",
    "        if oldRoot is self.root:\n",
    "            self.root = newRoot\n",
    "        else:\n",
    "            if oldRoot.isRightChild():\n",
    "                oldRoot.parent.rightChild = newRoot\n",
    "            else:\n",
    "                oldRoot.parent.leftChild = newRoot\n",
    "        newRoot.rightChild = oldRoot\n",
    "        oldRoot.parent = newRoot\n",
    "        #Update balance factors of nodes\n",
    "        oldRoot.balance = oldRoot.balance - 1 - max (newRoot.balance, 0)\n",
    "        newRoot.balance = newRoot.balance - 1 + min (oldRoot.balance, 0)\n",
    "        #Update leftCount and rightCount of nodes\n",
    "        oldRoot.leftCount = newRoot.rightCount\n",
    "        newRoot.rightCount = oldRoot.leftCount + oldRoot.rightCount +oldRoot.count\n",
    "        \n",
    "    def rebalance (self, node):\n",
    "        if node.balance < 0:\n",
    "            if node.rightChild.balance > 0:\n",
    "                self.rotateRight (node.rightChild)\n",
    "                self.rotateLeft (node)\n",
    "            else:\n",
    "                self.rotateLeft(node)\n",
    "        elif node.balance > 0:\n",
    "            if node.leftChild.balance < 0:\n",
    "                self.rotateLeft (node.leftChild)\n",
    "                self.rotateRight(node)\n",
    "            else:\n",
    "                self.rotateRight(node)\n",
    "                \n",
    "    def printTree (self):\n",
    "        if not self.root is None:\n",
    "            self._printTree(self.root)\n",
    "    \n",
    "    def _printTree (self, node):\n",
    "        if not node is None:\n",
    "            self._printTree(node.leftChild)\n",
    "            print ('Value =', node.value, '. Left Count =', node.leftCount, '. Right Count = ', node.rightCount, '. Count = ', node.count)\n",
    "            self._printTree (node.rightChild)\n",
    "            \n",
    "    def findRank(self, rank):\n",
    "        if not self.root is None:\n",
    "            return self._findRank(rank, self.root)\n",
    "        else:\n",
    "            return None\n",
    "    \n",
    "    def _findRank(self, rank, node):\n",
    "        if node.leftChild is None:\n",
    "            leftCount = 0\n",
    "        else:\n",
    "            leftCount = node.leftCount\n",
    "        \n",
    "        if rank >leftCount and rank <= leftCount + node.count:\n",
    "            return node.value\n",
    "        elif rank <= leftCount:\n",
    "            if node.leftChild is None:\n",
    "                return None\n",
    "            return self._findRank(rank, node.leftChild)\n",
    "        elif rank > leftCount + node.count:\n",
    "            if node.rightChild is None:\n",
    "                return None\n",
    "            return self._findRank (rank-leftCount-node.count, node.rightChild)\n",
    "        else:\n",
    "            return None\n",
    "    \n",
    "    def findPercentile (self, percentile):\n",
    "        #Find nearest-rank, given percentile\n",
    "        \n",
    "        #Special case: 0th percentile is rank 1. \n",
    "        if percentile == 0:\n",
    "            return self.findRank(1)\n",
    "        \n",
    "        rank = math.ceil(percentile/100*self.numEntries)\n",
    "        return self.findRank(rank)\n",
    "        \n",
    "        \n",
    "\n",
    "            "
   ]
  },
  {
   "cell_type": "code",
   "execution_count": 4,
   "metadata": {
    "collapsed": false
   },
   "outputs": [
    {
     "data": {
      "text/plain": [
       "454"
      ]
     },
     "execution_count": 4,
     "metadata": {},
     "output_type": "execute_result"
    }
   ],
   "source": [
    "math.ceil(45.334/100*1000)"
   ]
  },
  {
   "cell_type": "code",
   "execution_count": 35,
   "metadata": {
    "collapsed": true
   },
   "outputs": [],
   "source": [
    "import numpy as np\n",
    "\n",
    "import time\n",
    "\n",
    "def createTree (values):\n",
    "    output = Tree()\n",
    "    for value in values:\n",
    "        output.add(value)\n",
    "    return output\n",
    "        \n",
    "def createArray (values):\n",
    "    return np.array(values)\n",
    "\n",
    "def findArrayPercentile(array, percentile):\n",
    "    if array is None or len(array)<=0:\n",
    "        return None\n",
    "    else:\n",
    "        return np.percentile(array, math.ceil(percentile/100*len(array))/len(array)*100, interpolation = 'lower')\n",
    "\n",
    "def testPercentile(values, percentile):\n",
    "    start = time.time()\n",
    "    tree = createTree(values)\n",
    "    end = time.time()\n",
    "    treeCreateTime = end - start\n",
    "    \n",
    "    start = time.time()\n",
    "    array = createArray(values)\n",
    "    end = time.time()\n",
    "    arrayCreateTime = end - start\n",
    "    \n",
    "    start = time.time()\n",
    "    treePercentile = tree.findPercentile(percentile)\n",
    "    end = time.time()\n",
    "    treePercentileTime = (end - start)\n",
    "    \n",
    "    start = time.time()\n",
    "    arrayPercentile = findArrayPercentile(array, percentile)\n",
    "    end = time.time()\n",
    "    arrayPercentileTime = (end - start)\n",
    "    \n",
    "    print ('Values = ', values)\n",
    "    print ('Percentile = ', percentile)\n",
    "    print ('Tree Creation time=', treeCreateTime, '. Array Creation Time =', arrayCreateTime, \n",
    "           '. Tree Better?', treeCreateTime <= arrayCreateTime)\n",
    "    print ('Tree Percentile time=', treePercentileTime, '. Array Percentile Time =', arrayPercentileTime, \n",
    "           '. Tree Better?', treePercentileTime <= arrayPercentileTime)\n",
    "    print ('Tree percentile = ', treePercentile, '. Array percentile = ', arrayPercentile)\n",
    "    print ()\n",
    "    if treePercentile == arrayPercentile:\n",
    "        print ('Success!')\n",
    "        print ('')\n",
    "    else:\n",
    "        raise ValueError('Tree did not calculate percentile correctly')\n",
    "        \n",
    "def testPercentile2(values, percentile):\n",
    "    treeCreateTime = 0\n",
    "    treePercentileTime = 0\n",
    "    arrayCreateTime = 0\n",
    "    arrayPercentileTime = 0\n",
    "    \n",
    "    tree = Tree()\n",
    "    array = np.array([])\n",
    "    \n",
    "    for value in values:\n",
    "        start = time.time()\n",
    "        tree.add(value)\n",
    "        end = time.time()\n",
    "        treeCreateTime += end - start\n",
    "        \n",
    "        start = time.time()\n",
    "        treePercentile = tree.findPercentile(percentile)\n",
    "        end = time.time()\n",
    "        treePercentileTime += end - start\n",
    "        \n",
    "        start = time.time()\n",
    "        array = np.append (array,value)\n",
    "        end = time.time()\n",
    "        arrayCreateTime += end - start\n",
    "        \n",
    "        start = time.time()\n",
    "        arrayPercentile = findArrayPercentile(array, percentile)\n",
    "        end = time.time()\n",
    "        arrayPercentileTime += end - start\n",
    "        \n",
    "        if treePercentile != arrayPercentile:\n",
    "            print ('Tree percentile = ', treePercentile, '. Array percentile = ', arrayPercentile)\n",
    "            print ('Percentile = ', percentile)\n",
    "            print ('Value = ', value)\n",
    "            print ('Values = ', values)\n",
    "            print ('Numpy array = ', array)\n",
    "\n",
    "            raise ValueError('Tree did not calculate percentile correctly')\n",
    "    \n",
    "\n",
    "    print ('Tree Creation time=', treeCreateTime, '. Array Creation Time =', arrayCreateTime, \n",
    "           '. Tree Better?', treeCreateTime < arrayCreateTime)\n",
    "    print ('Tree Percentile time=', treePercentileTime, '. Array Percentile Time =', arrayPercentileTime, \n",
    "           '. Tree Better?', treePercentileTime < arrayPercentileTime)\n",
    "    print ()\n",
    "\n",
    "        \n",
    "        "
   ]
  },
  {
   "cell_type": "code",
   "execution_count": 38,
   "metadata": {
    "collapsed": false
   },
   "outputs": [
    {
     "name": "stdout",
     "output_type": "stream",
     "text": [
      "Tree Creation time= 0.04265737533569336 . Array Creation Time = 0.08651018142700195 . Tree Better? True\n",
      "Tree Percentile time= 0.06089639663696289 . Array Percentile Time = 0.6339783668518066 . Tree Better? True\n",
      "\n"
     ]
    }
   ],
   "source": [
    "#Test 4: Large array\n",
    "import random\n",
    "\n",
    "random.seed(1)\n",
    "\n",
    "testValues = []\n",
    "\n",
    "for i in range (0, 10000):\n",
    "    testValues.append(random.randint(1,1000))\n",
    "\n",
    "testPercentile2(testValues,5)\n",
    "    "
   ]
  },
  {
   "cell_type": "code",
   "execution_count": 39,
   "metadata": {
    "collapsed": false
   },
   "outputs": [
    {
     "name": "stdout",
     "output_type": "stream",
     "text": [
      "Tree Creation time= 0.0 . Array Creation Time = 0.0 . Tree Better? False\n",
      "Tree Percentile time= 0.0 . Array Percentile Time = 0.0010004043579101562 . Tree Better? True\n",
      "\n",
      "Tree Creation time= 0.0009980201721191406 . Array Creation Time = 0.0 . Tree Better? False\n",
      "Tree Percentile time= 0.0 . Array Percentile Time = 0.0 . Tree Better? False\n",
      "\n",
      "Tree Creation time= 0.0 . Array Creation Time = 0.0 . Tree Better? False\n",
      "Tree Percentile time= 0.0 . Array Percentile Time = 0.0 . Tree Better? False\n",
      "\n",
      "Tree Creation time= 0.0 . Array Creation Time = 0.0 . Tree Better? False\n",
      "Tree Percentile time= 0.0 . Array Percentile Time = 0.0009906291961669922 . Tree Better? True\n",
      "\n",
      "Tree Creation time= 0.0 . Array Creation Time = 0.0010101795196533203 . Tree Better? True\n",
      "Tree Percentile time= 0.0 . Array Percentile Time = 0.0009996891021728516 . Tree Better? True\n",
      "\n"
     ]
    }
   ],
   "source": [
    "#Test 5: Repeated numbers\n",
    "\n",
    "testValues = []\n",
    "\n",
    "for i in range (0,5):\n",
    "    testValues = []\n",
    "    testValue = random.randint(-100,100)\n",
    "    testPercentile = random.randint(0,100)\n",
    "    for i in range (0, random.randint(5, 50)):\n",
    "        testValues.append(testValue)\n",
    "    testPercentile2(testValues,testPercentile)\n",
    "    \n",
    "        "
   ]
  },
  {
   "cell_type": "code",
   "execution_count": 40,
   "metadata": {
    "collapsed": false
   },
   "outputs": [
    {
     "name": "stdout",
     "output_type": "stream",
     "text": [
      "Tree Creation time= 0.20139765739440918 . Array Creation Time = 2.7131476402282715 . Tree Better? True\n",
      "Tree Percentile time= 0.150071382522583 . Array Percentile Time = 15.028879880905151 . Tree Better? True\n",
      "\n"
     ]
    }
   ],
   "source": [
    "#Test 6: Large repeated numbers\n",
    "\n",
    "testValues = []\n",
    "\n",
    "for i in range (0,100000):\n",
    "    testValues.append(1)\n",
    "\n",
    "testPercentile2(testValues, 33)"
   ]
  },
  {
   "cell_type": "code",
   "execution_count": 41,
   "metadata": {
    "collapsed": false
   },
   "outputs": [
    {
     "name": "stdout",
     "output_type": "stream",
     "text": [
      "Tree Creation time= 0.028616666793823242 . Array Creation Time = 0.1109311580657959 . Tree Better? True\n",
      "Tree Percentile time= 0.022628068923950195 . Array Percentile Time = 0.3669261932373047 . Tree Better? True\n",
      "\n",
      "Tree Creation time= 0.05187582969665527 . Array Creation Time = 0.13399219512939453 . Tree Better? True\n",
      "Tree Percentile time= 0.05092501640319824 . Array Percentile Time = 0.3211536407470703 . Tree Better? True\n",
      "\n"
     ]
    }
   ],
   "source": [
    "#Test7: 0 and 100 percentile\n",
    "\n",
    "testValues = []\n",
    "\n",
    "for i in range (0, 10000):\n",
    "    testValues.append(random.randint(1,100))\n",
    "\n",
    "testPercentile2(testValues,0)\n",
    "testPercentile2(testValues,100)"
   ]
  },
  {
   "cell_type": "code",
   "execution_count": 42,
   "metadata": {
    "collapsed": false
   },
   "outputs": [
    {
     "name": "stdout",
     "output_type": "stream",
     "text": [
      "Tree Creation time= 0.0 . Array Creation Time = 0.0 . Tree Better? False\n",
      "Tree Percentile time= 0.0 . Array Percentile Time = 0.0 . Tree Better? False\n",
      "\n",
      "Tree Creation time= 0.0 . Array Creation Time = 0.0 . Tree Better? False\n",
      "Tree Percentile time= 0.0 . Array Percentile Time = 0.0010001659393310547 . Tree Better? True\n",
      "\n",
      "Tree Creation time= 0.0 . Array Creation Time = 0.0 . Tree Better? False\n",
      "Tree Percentile time= 0.0 . Array Percentile Time = 0.0 . Tree Better? False\n",
      "\n",
      "Tree Creation time= 0.0 . Array Creation Time = 0.0 . Tree Better? False\n",
      "Tree Percentile time= 0.0 . Array Percentile Time = 0.0 . Tree Better? False\n",
      "\n"
     ]
    }
   ],
   "source": [
    "#Test 8: single value\n",
    "\n",
    "testPercentile2([0], 50)\n",
    "testPercentile2([-3], 30)\n",
    "testPercentile2([1000], 2)\n",
    "testPercentile2([0], 0)"
   ]
  },
  {
   "cell_type": "code",
   "execution_count": 43,
   "metadata": {
    "collapsed": false
   },
   "outputs": [
    {
     "name": "stdout",
     "output_type": "stream",
     "text": [
      "Tree Creation time= 0.0 . Array Creation Time = 0.0 . Tree Better? False\n",
      "Tree Percentile time= 0.0 . Array Percentile Time = 0.0009853839874267578 . Tree Better? True\n",
      "\n"
     ]
    }
   ],
   "source": [
    "#Test 9: decimal percentiles\n",
    "\n",
    "testValues = []\n",
    "\n",
    "#for i in range (0, 10000):\n",
    "    #testValues.append(random.randint(1,1000))\n",
    "    \n",
    "for i in range (0, 10):\n",
    "    testValues.append(random.randint(1,100))\n",
    "\n",
    "#testPercentile2(testValues,0.2)\n",
    "#testPercentile2(testValues, 45)\n",
    "testPercentile2(testValues, 20)\n"
   ]
  },
  {
   "cell_type": "code",
   "execution_count": null,
   "metadata": {
    "collapsed": true
   },
   "outputs": [],
   "source": []
  },
  {
   "cell_type": "code",
   "execution_count": 46,
   "metadata": {
    "collapsed": false
   },
   "outputs": [
    {
     "ename": "TypeError",
     "evalue": "'int' object is not callable",
     "output_type": "error",
     "traceback": [
      "\u001b[0;31m---------------------------------------------------------------------------\u001b[0m",
      "\u001b[0;31mTypeError\u001b[0m                                 Traceback (most recent call last)",
      "\u001b[0;32m<ipython-input-46-675515ac7935>\u001b[0m in \u001b[0;36m<module>\u001b[0;34m()\u001b[0m\n\u001b[1;32m      2\u001b[0m \u001b[1;31m#https://en.wikipedia.org/wiki/Percentile\u001b[0m\u001b[1;33m\u001b[0m\u001b[1;33m\u001b[0m\u001b[0m\n\u001b[1;32m      3\u001b[0m \u001b[1;33m\u001b[0m\u001b[0m\n\u001b[0;32m----> 4\u001b[0;31m \u001b[0mtestPercentile\u001b[0m\u001b[1;33m(\u001b[0m\u001b[1;33m[\u001b[0m\u001b[1;36m15\u001b[0m\u001b[1;33m,\u001b[0m \u001b[1;36m20\u001b[0m\u001b[1;33m,\u001b[0m \u001b[1;36m35\u001b[0m\u001b[1;33m,\u001b[0m \u001b[1;36m40\u001b[0m\u001b[1;33m,\u001b[0m \u001b[1;36m50\u001b[0m\u001b[1;33m]\u001b[0m\u001b[1;33m,\u001b[0m\u001b[1;36m5\u001b[0m\u001b[1;33m)\u001b[0m\u001b[1;33m\u001b[0m\u001b[0m\n\u001b[0m\u001b[1;32m      5\u001b[0m \u001b[0mtestPercentile\u001b[0m\u001b[1;33m(\u001b[0m\u001b[1;33m[\u001b[0m\u001b[1;36m15\u001b[0m\u001b[1;33m,\u001b[0m \u001b[1;36m20\u001b[0m\u001b[1;33m,\u001b[0m \u001b[1;36m35\u001b[0m\u001b[1;33m,\u001b[0m \u001b[1;36m40\u001b[0m\u001b[1;33m,\u001b[0m \u001b[1;36m50\u001b[0m\u001b[1;33m]\u001b[0m\u001b[1;33m,\u001b[0m\u001b[1;36m30\u001b[0m\u001b[1;33m)\u001b[0m\u001b[1;33m\u001b[0m\u001b[0m\n\u001b[1;32m      6\u001b[0m \u001b[0mtestPercentile\u001b[0m\u001b[1;33m(\u001b[0m\u001b[1;33m[\u001b[0m\u001b[1;36m15\u001b[0m\u001b[1;33m,\u001b[0m \u001b[1;36m20\u001b[0m\u001b[1;33m,\u001b[0m \u001b[1;36m35\u001b[0m\u001b[1;33m,\u001b[0m \u001b[1;36m40\u001b[0m\u001b[1;33m,\u001b[0m \u001b[1;36m50\u001b[0m\u001b[1;33m]\u001b[0m\u001b[1;33m,\u001b[0m\u001b[1;36m40\u001b[0m\u001b[1;33m)\u001b[0m\u001b[1;33m\u001b[0m\u001b[0m\n",
      "\u001b[0;31mTypeError\u001b[0m: 'int' object is not callable"
     ]
    }
   ],
   "source": [
    "#Test 1: Google Nearest Rank Definition Test\n",
    "#https://en.wikipedia.org/wiki/Percentile\n",
    "\n",
    "testPercentile([15, 20, 35, 40, 50],5)\n",
    "testPercentile([15, 20, 35, 40, 50],30)\n",
    "testPercentile([15, 20, 35, 40, 50],40)\n",
    "testPercentile([15, 20, 35, 40, 50],50)\n",
    "testPercentile([15, 20, 35, 40, 50],100)"
   ]
  },
  {
   "cell_type": "code",
   "execution_count": 30,
   "metadata": {
    "collapsed": false
   },
   "outputs": [
    {
     "name": "stdout",
     "output_type": "stream",
     "text": [
      "Values =  [15, 20, 35, 40, 50]\n",
      "Percentile =  5\n",
      "Tree Creation time= 0.0 . Array Creation Time = 0.0 . Tree Better? True\n",
      "Tree Percentile time= 0.0 . Array Percentile Time = 0.0010008811950683594 . Tree Better? True\n",
      "Tree percentile =  15 . Array percentile =  15\n",
      "\n",
      "Success!\n",
      "\n",
      "Values =  [15, 20, 35, 40, 50]\n",
      "Percentile =  30\n",
      "Tree Creation time= 0.0 . Array Creation Time = 0.0 . Tree Better? True\n",
      "Tree Percentile time= 0.0 . Array Percentile Time = 0.0 . Tree Better? True\n",
      "Tree percentile =  20 . Array percentile =  20\n",
      "\n",
      "Success!\n",
      "\n",
      "Values =  [15, 20, 35, 40, 50]\n",
      "Percentile =  40\n",
      "Tree Creation time= 0.0 . Array Creation Time = 0.0 . Tree Better? True\n",
      "Tree Percentile time= 0.0 . Array Percentile Time = 0.0 . Tree Better? True\n",
      "Tree percentile =  20 . Array percentile =  20\n",
      "\n",
      "Success!\n",
      "\n",
      "Values =  [15, 20, 35, 40, 50]\n",
      "Percentile =  50\n",
      "Tree Creation time= 0.0 . Array Creation Time = 0.0 . Tree Better? True\n",
      "Tree Percentile time= 0.0 . Array Percentile Time = 0.0010004043579101562 . Tree Better? True\n",
      "Tree percentile =  35 . Array percentile =  35\n",
      "\n",
      "Success!\n",
      "\n",
      "Values =  [15, 20, 35, 40, 50]\n",
      "Percentile =  100\n",
      "Tree Creation time= 0.0 . Array Creation Time = 0.0 . Tree Better? True\n",
      "Tree Percentile time= 0.0 . Array Percentile Time = 0.0 . Tree Better? True\n",
      "Tree percentile =  50 . Array percentile =  50\n",
      "\n",
      "Success!\n",
      "\n"
     ]
    }
   ],
   "source": [
    "#Test 1: Google Nearest Rank Definition Test\n",
    "#https://en.wikipedia.org/wiki/Percentile\n",
    "\n",
    "testPercentile([15, 20, 35, 40, 50],5)\n",
    "testPercentile([15, 20, 35, 40, 50],30)\n",
    "testPercentile([15, 20, 35, 40, 50],40)\n",
    "testPercentile([15, 20, 35, 40, 50],50)\n",
    "testPercentile([15, 20, 35, 40, 50],100)"
   ]
  },
  {
   "cell_type": "code",
   "execution_count": 47,
   "metadata": {
    "collapsed": false
   },
   "outputs": [
    {
     "ename": "TypeError",
     "evalue": "'int' object is not callable",
     "output_type": "error",
     "traceback": [
      "\u001b[0;31m---------------------------------------------------------------------------\u001b[0m",
      "\u001b[0;31mTypeError\u001b[0m                                 Traceback (most recent call last)",
      "\u001b[0;32m<ipython-input-47-0447b8dbf185>\u001b[0m in \u001b[0;36m<module>\u001b[0;34m()\u001b[0m\n\u001b[1;32m      1\u001b[0m \u001b[1;31m#Test 2: Empty values test\u001b[0m\u001b[1;33m\u001b[0m\u001b[1;33m\u001b[0m\u001b[0m\n\u001b[1;32m      2\u001b[0m \u001b[1;33m\u001b[0m\u001b[0m\n\u001b[0;32m----> 3\u001b[0;31m \u001b[0mtestPercentile\u001b[0m\u001b[1;33m(\u001b[0m\u001b[1;33m[\u001b[0m\u001b[1;33m]\u001b[0m\u001b[1;33m,\u001b[0m\u001b[1;36m5\u001b[0m\u001b[1;33m)\u001b[0m\u001b[1;33m\u001b[0m\u001b[0m\n\u001b[0m\u001b[1;32m      4\u001b[0m \u001b[0mtestPercentile\u001b[0m\u001b[1;33m(\u001b[0m\u001b[1;33m[\u001b[0m\u001b[1;33m]\u001b[0m\u001b[1;33m,\u001b[0m\u001b[1;36m35\u001b[0m\u001b[1;33m)\u001b[0m\u001b[1;33m\u001b[0m\u001b[0m\n",
      "\u001b[0;31mTypeError\u001b[0m: 'int' object is not callable"
     ]
    }
   ],
   "source": [
    "#Test 2: Empty values test\n",
    "\n",
    "testPercentile([],5)\n",
    "testPercentile([],35)"
   ]
  },
  {
   "cell_type": "code",
   "execution_count": null,
   "metadata": {
    "collapsed": false
   },
   "outputs": [],
   "source": [
    "\n"
   ]
  },
  {
   "cell_type": "code",
   "execution_count": null,
   "metadata": {
    "collapsed": false
   },
   "outputs": [],
   "source": []
  },
  {
   "cell_type": "code",
   "execution_count": null,
   "metadata": {
    "collapsed": false
   },
   "outputs": [],
   "source": []
  },
  {
   "cell_type": "code",
   "execution_count": null,
   "metadata": {
    "collapsed": true
   },
   "outputs": [],
   "source": []
  }
 ],
 "metadata": {
  "anaconda-cloud": {},
  "kernelspec": {
   "display_name": "Python [conda root]",
   "language": "python",
   "name": "conda-root-py"
  },
  "language_info": {
   "codemirror_mode": {
    "name": "ipython",
    "version": 3
   },
   "file_extension": ".py",
   "mimetype": "text/x-python",
   "name": "python",
   "nbconvert_exporter": "python",
   "pygments_lexer": "ipython3",
   "version": "3.5.2"
  }
 },
 "nbformat": 4,
 "nbformat_minor": 1
}
